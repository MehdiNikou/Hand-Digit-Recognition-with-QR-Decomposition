{
 "cells": [
  {
   "cell_type": "code",
   "execution_count": 1,
   "metadata": {},
   "outputs": [],
   "source": [
    "import numpy as np\n",
    "\n",
    "def QR_Decomposition(matrix):\n",
    "    n = matrix.shape[1]\n",
    "    R = matrix\n",
    "    Q = np.eye(n)\n",
    "    \n",
    "    for i in range(0, n-1):\n",
    "        X = R[i: , i]\n",
    "        if X[0] >= 0 :\n",
    "            V = X + np.sqrt(np.sum(np.square(abs(X)))) * np.eye(X.shape[0], 1)\n",
    "        else:\n",
    "            V = X - np.sqrt(np.sum(np.square(abs(X)))) * np.eye(X.shape[0], 1)\n",
    "        P = np.eye(X.shape[0]) - 2/float(np.inner(V.flatten(), V.flatten()))* np.dot(V, V.T)\n",
    "        H = np.block([[np.eye(i), np.zeros((i, n-i))],\n",
    "                       [np.zeros((n-i, i)), P]])\n",
    "        R = np.dot(H, R)\n",
    "        Q = np.dot(Q, H)\n",
    "    return Q, R"
   ]
  }
 ],
 "metadata": {
  "kernelspec": {
   "display_name": "Python 3",
   "language": "python",
   "name": "python3"
  },
  "language_info": {
   "codemirror_mode": {
    "name": "ipython",
    "version": 3
   },
   "file_extension": ".py",
   "mimetype": "text/x-python",
   "name": "python",
   "nbconvert_exporter": "python",
   "pygments_lexer": "ipython3",
   "version": "3.11.5"
  }
 },
 "nbformat": 4,
 "nbformat_minor": 2
}
